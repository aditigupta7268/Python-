{
 "cells": [
  {
   "cell_type": "code",
   "execution_count": null,
   "id": "148cab3a-a719-4a0f-99cd-b49dd6fe2212",
   "metadata": {},
   "outputs": [],
   "source": [
    "# Functions in python\n",
    "# function is reusable block of code"
   ]
  },
  {
   "cell_type": "code",
   "execution_count": null,
   "id": "9640cc1d-c694-4213-a30a-bba619ae1c68",
   "metadata": {},
   "outputs": [],
   "source": [
    "# Types of function \n",
    "# (a) Pre defined functio ---> print , sum , min , max , append ...\n",
    "#(b) Manually Created Function\n",
    "#step 1 -> def \n",
    "#step 2 -> Name of the function\n",
    "#step 3 -> Logic to create the function\n",
    "#step 4 -> Call the function "
   ]
  },
  {
   "cell_type": "code",
   "execution_count": null,
   "id": "4f1c0107-4827-4bbf-9e77-4f9b1af87b80",
   "metadata": {},
   "outputs": [],
   "source": [
    "# Syntax \n",
    "# def name_of_function():\n",
    "#   logics\n",
    "# name_of_function()"
   ]
  },
  {
   "cell_type": "code",
   "execution_count": 1,
   "id": "2240b363-a2bb-4d0c-98f6-5d6ebb4ede2e",
   "metadata": {},
   "outputs": [
    {
     "name": "stdout",
     "output_type": "stream",
     "text": [
      "Total =  11\n"
     ]
    }
   ],
   "source": [
    "# to add 2 numbers using function\n",
    "def my_add():\n",
    "    a = 5\n",
    "    b = 6\n",
    "    c = a+b\n",
    "    print(\"Total = \",c)\n",
    "my_add()"
   ]
  },
  {
   "cell_type": "code",
   "execution_count": 2,
   "id": "9da614aa-56f9-4805-8a0b-bba465f7fe77",
   "metadata": {},
   "outputs": [
    {
     "name": "stdout",
     "output_type": "stream",
     "text": [
      "14\n"
     ]
    }
   ],
   "source": [
    "# to calculate sum of squares upto n \n",
    "def square():\n",
    "    i = 1\n",
    "    n = 3 \n",
    "    sum1 = 0 \n",
    "    while(i <= n):\n",
    "        sum1 += i**2\n",
    "        i = i+1\n",
    "    print(sum1)\n",
    "square()"
   ]
  },
  {
   "cell_type": "code",
   "execution_count": 5,
   "id": "b16fc025-dd69-455a-b298-0cbb8945961c",
   "metadata": {},
   "outputs": [
    {
     "name": "stdin",
     "output_type": "stream",
     "text": [
      "Enter the number:  1234\n"
     ]
    },
    {
     "name": "stdout",
     "output_type": "stream",
     "text": [
      "Total =  10\n"
     ]
    }
   ],
   "source": [
    "# to add sum of digits of a number \n",
    "def my_add():\n",
    "    i = int(input(\"Enter the number: \"))\n",
    "    sum = 0\n",
    "    while(i > 0):\n",
    "        sum += i%10\n",
    "        i = i//10\n",
    "    print(\"Total = \", sum)\n",
    "my_add()"
   ]
  },
  {
   "cell_type": "code",
   "execution_count": 6,
   "id": "46e2e270-c0cd-49c5-9948-b11d670ab3dd",
   "metadata": {},
   "outputs": [],
   "source": [
    "# Arguments and parametrs\n",
    "# Parameters ----> These are the values which we passes when we create a function\n",
    "# Arguments -----> These are the values which we passes when we call a function"
   ]
  },
  {
   "cell_type": "code",
   "execution_count": 7,
   "id": "20a0ea32-9a8f-47e1-abe6-41bc8df80d77",
   "metadata": {},
   "outputs": [
    {
     "name": "stdout",
     "output_type": "stream",
     "text": [
      "Total =  7\n"
     ]
    }
   ],
   "source": [
    "def my_add(a,b):\n",
    "    c = a+b\n",
    "    print(\"Total = \",c)\n",
    "my_add(3,4)\n",
    "### here (a,b) ---> Parameters (3,4) ---> Arguments"
   ]
  },
  {
   "cell_type": "code",
   "execution_count": 12,
   "id": "97cd2408-3871-48e7-8713-95f5ee610ec0",
   "metadata": {},
   "outputs": [
    {
     "name": "stdin",
     "output_type": "stream",
     "text": [
      "Enter the number :  123\n"
     ]
    },
    {
     "name": "stdout",
     "output_type": "stream",
     "text": [
      "Odd Number ....\n"
     ]
    }
   ],
   "source": [
    "#Q2 to check if a number is odd or even using function\n",
    "def oddeve(a):\n",
    "    if(a%2 == 0):\n",
    "        print(\"Even Number\")\n",
    "    else:\n",
    "        print(\"Odd Number ....\")\n",
    "p = int(input(\"Enter the number : \"))\n",
    "oddeve(p)\n",
    "### (a) ----> parameter , (p) ----> argument "
   ]
  },
  {
   "cell_type": "code",
   "execution_count": null,
   "id": "7b196925-6b39-4915-a91d-9e02f09de7b7",
   "metadata": {},
   "outputs": [],
   "source": []
  }
 ],
 "metadata": {
  "kernelspec": {
   "display_name": "Python 3 (ipykernel)",
   "language": "python",
   "name": "python3"
  },
  "language_info": {
   "codemirror_mode": {
    "name": "ipython",
    "version": 3
   },
   "file_extension": ".py",
   "mimetype": "text/x-python",
   "name": "python",
   "nbconvert_exporter": "python",
   "pygments_lexer": "ipython3",
   "version": "3.11.0rc2"
  }
 },
 "nbformat": 4,
 "nbformat_minor": 5
}
