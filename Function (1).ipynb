{
 "cells": [
  {
   "cell_type": "code",
   "execution_count": null,
   "id": "148cab3a-a719-4a0f-99cd-b49dd6fe2212",
   "metadata": {},
   "outputs": [],
   "source": [
    "# Functions in python\n",
    "# function is reusable block of code"
   ]
  },
  {
   "cell_type": "code",
   "execution_count": null,
   "id": "9640cc1d-c694-4213-a30a-bba619ae1c68",
   "metadata": {},
   "outputs": [],
   "source": [
    "# Types of function \n",
    "# (a) Pre defined functio ---> print , sum , min , max , append ...\n",
    "#(b) Manually Created Function\n",
    "#step 1 -> def \n",
    "#step 2 -> Name of the function\n",
    "#step 3 -> Logic to create the function\n",
    "#step 4 -> Call the function "
   ]
  },
  {
   "cell_type": "code",
   "execution_count": null,
   "id": "4f1c0107-4827-4bbf-9e77-4f9b1af87b80",
   "metadata": {},
   "outputs": [],
   "source": [
    "# Syntax \n",
    "# def name_of_function():\n",
    "#   logics\n",
    "# name_of_function()"
   ]
  },
  {
   "cell_type": "code",
   "execution_count": 1,
   "id": "2240b363-a2bb-4d0c-98f6-5d6ebb4ede2e",
   "metadata": {},
   "outputs": [
    {
     "name": "stdout",
     "output_type": "stream",
     "text": [
      "Total =  11\n"
     ]
    }
   ],
   "source": [
    "# to add 2 numbers using function\n",
    "def my_add():\n",
    "    a = 5\n",
    "    b = 6\n",
    "    c = a+b\n",
    "    print(\"Total = \",c)\n",
    "my_add()"
   ]
  },
  {
   "cell_type": "code",
   "execution_count": 2,
   "id": "9da614aa-56f9-4805-8a0b-bba465f7fe77",
   "metadata": {},
   "outputs": [
    {
     "name": "stdout",
     "output_type": "stream",
     "text": [
      "14\n"
     ]
    }
   ],
   "source": [
    "# to calculate sum of squares upto n \n",
    "def square():\n",
    "    i = 1\n",
    "    n = 3 \n",
    "    sum1 = 0 \n",
    "    while(i <= n):\n",
    "        sum1 += i**2\n",
    "        i = i+1\n",
    "    print(sum1)\n",
    "square()"
   ]
  },
  {
   "cell_type": "code",
   "execution_count": 5,
   "id": "b16fc025-dd69-455a-b298-0cbb8945961c",
   "metadata": {},
   "outputs": [
    {
     "name": "stdin",
     "output_type": "stream",
     "text": [
      "Enter the number:  1234\n"
     ]
    },
    {
     "name": "stdout",
     "output_type": "stream",
     "text": [
      "Total =  10\n"
     ]
    }
   ],
   "source": [
    "# to add sum of digits of a number \n",
    "def my_add():\n",
    "    i = int(input(\"Enter the number: \"))\n",
    "    sum = 0\n",
    "    while(i > 0):\n",
    "        sum += i%10\n",
    "        i = i//10\n",
    "    print(\"Total = \", sum)\n",
    "my_add()"
   ]
  },
  {
   "cell_type": "code",
   "execution_count": 6,
   "id": "46e2e270-c0cd-49c5-9948-b11d670ab3dd",
   "metadata": {},
   "outputs": [],
   "source": [
    "# Arguments and parametrs\n",
    "# Parameters ----> These are the values which we passes when we create a function\n",
    "# Arguments -----> These are the values which we passes when we call a function"
   ]
  },
  {
   "cell_type": "code",
   "execution_count": 7,
   "id": "20a0ea32-9a8f-47e1-abe6-41bc8df80d77",
   "metadata": {},
   "outputs": [
    {
     "name": "stdout",
     "output_type": "stream",
     "text": [
      "Total =  7\n"
     ]
    }
   ],
   "source": [
    "def my_add(a,b):\n",
    "    c = a+b\n",
    "    print(\"Total = \",c)\n",
    "my_add(3,4)\n",
    "### here (a,b) ---> Parameters (3,4) ---> Arguments"
   ]
  },
  {
   "cell_type": "code",
   "execution_count": 12,
   "id": "97cd2408-3871-48e7-8713-95f5ee610ec0",
   "metadata": {},
   "outputs": [
    {
     "name": "stdin",
     "output_type": "stream",
     "text": [
      "Enter the number :  123\n"
     ]
    },
    {
     "name": "stdout",
     "output_type": "stream",
     "text": [
      "Odd Number ....\n"
     ]
    }
   ],
   "source": [
    "#Q2 to check if a number is odd or even using function\n",
    "def oddeve(a):\n",
    "    if(a%2 == 0):\n",
    "        print(\"Even Number\")\n",
    "    else:\n",
    "        print(\"Odd Number ....\")\n",
    "p = int(input(\"Enter the number : \"))\n",
    "oddeve(p)\n",
    "### (a) ----> parameter , (p) ----> argument "
   ]
  },
  {
   "cell_type": "code",
   "execution_count": 5,
   "id": "7b196925-6b39-4915-a91d-9e02f09de7b7",
   "metadata": {},
   "outputs": [
    {
     "data": {
      "text/plain": [
       "2"
      ]
     },
     "execution_count": 5,
     "metadata": {},
     "output_type": "execute_result"
    }
   ],
   "source": [
    "def lcm(*args):\n",
    "    lcm = 1\n",
    "    count = 0\n",
    "    number = list(args)\n",
    "    for i in range(1,len(number)):\n",
    "        if(number[i]%i == 0):\n",
    "            number[i] //= i\n",
    "            count = 1\n",
    "        if(count == 1):\n",
    "            lcm *= i\n",
    "    return lcm\n",
    "lcm(2,6,3)"
   ]
  },
  {
   "cell_type": "code",
   "execution_count": 1,
   "id": "f073857b-2882-44c8-a6af-e2f5e2aab834",
   "metadata": {},
   "outputs": [],
   "source": [
    "# lambda function => A lambda function can take any number of arguments but can only have one expression\n",
    "# syntax : lambda arguments : expression"
   ]
  },
  {
   "cell_type": "code",
   "execution_count": 2,
   "id": "716ce2f1-bf4b-4464-9d8f-a88bf1681979",
   "metadata": {},
   "outputs": [
    {
     "name": "stdout",
     "output_type": "stream",
     "text": [
      "Total value =  7\n"
     ]
    }
   ],
   "source": [
    "#Ex. 1 \n",
    "x = lambda a : a+5\n",
    "print(\"Total value = \", x(2))"
   ]
  },
  {
   "cell_type": "code",
   "execution_count": 3,
   "id": "6ca27e82-efeb-4e59-957b-cdb8c5a311d8",
   "metadata": {},
   "outputs": [
    {
     "name": "stdout",
     "output_type": "stream",
     "text": [
      "Total value =  12\n"
     ]
    }
   ],
   "source": [
    "#Ex- 2 \n",
    "x = lambda a,b : a*b\n",
    "print(\"Total value = \", x(3,4))"
   ]
  },
  {
   "cell_type": "code",
   "execution_count": 4,
   "id": "b766c0b1-2f22-4133-a984-70aac9ae9232",
   "metadata": {},
   "outputs": [
    {
     "name": "stdout",
     "output_type": "stream",
     "text": [
      "Total value =  3\n"
     ]
    }
   ],
   "source": [
    "# Ex - 3\n",
    "x = lambda a,b,c : a+b-c\n",
    "print(\"Total value = \", x(4,5,6))"
   ]
  },
  {
   "cell_type": "code",
   "execution_count": 5,
   "id": "7f8f87d2-d153-4bd6-adca-78700ca1033a",
   "metadata": {},
   "outputs": [],
   "source": [
    "### filter function => The filter function returns an iterator where the items are filtered through a \n",
    "# function to test , if the item is accepted return true or false."
   ]
  },
  {
   "cell_type": "code",
   "execution_count": 6,
   "id": "143844ff-b388-4bda-a63d-1dae7dded36e",
   "metadata": {},
   "outputs": [
    {
     "name": "stdout",
     "output_type": "stream",
     "text": [
      "[5, 12, 17, 18]\n"
     ]
    }
   ],
   "source": [
    "ages = [5,12,17,18,34,67,50]\n",
    "def my_func(x):\n",
    "    if(x <= 18):\n",
    "        return True\n",
    "    else:\n",
    "        return False\n",
    "kid = list(filter(my_func , ages))\n",
    "print(kid)"
   ]
  },
  {
   "cell_type": "code",
   "execution_count": 8,
   "id": "0b2ade90-49c3-4b69-b7b9-064dd13cfadd",
   "metadata": {},
   "outputs": [
    {
     "name": "stdout",
     "output_type": "stream",
     "text": [
      "[1, 4, 9, 16]\n"
     ]
    }
   ],
   "source": [
    "## map function ==> the map() executes a specific function for each item in a iterable\n",
    "# The item is sent to the function as parameters\n",
    "a = [1,2,3,4]\n",
    "def my_square(a):\n",
    "    return a**2\n",
    "x = list(map(my_square,a))\n",
    "print(x)"
   ]
  },
  {
   "cell_type": "code",
   "execution_count": 9,
   "id": "39f99859-19b7-447d-bbdf-04faafdf420c",
   "metadata": {},
   "outputs": [
    {
     "name": "stdout",
     "output_type": "stream",
     "text": [
      "[3, 45, 89]\n"
     ]
    }
   ],
   "source": [
    "a = [\"3\",\"45\",\"89\"]\n",
    "x = list(map(int, a))\n",
    "print(x)"
   ]
  },
  {
   "cell_type": "code",
   "execution_count": 11,
   "id": "75519946-d2bf-4d0b-8cf9-1ffea4f72522",
   "metadata": {},
   "outputs": [
    {
     "name": "stdout",
     "output_type": "stream",
     "text": [
      "[0, 1, 1, 0, 1]\n"
     ]
    }
   ],
   "source": [
    "## even odd using filter function\n",
    "a = [2,3,5,6,7]\n",
    "def oddeve(a):\n",
    "    if(a%2 == 0):\n",
    "        return 0 ## even\n",
    "    else:\n",
    "        return 1 # odd\n",
    "x = list(map(oddeve,a))\n",
    "print(x)"
   ]
  },
  {
   "cell_type": "code",
   "execution_count": 13,
   "id": "09000dd5-5da4-4f4a-ac08-1e44fdc046ae",
   "metadata": {},
   "outputs": [
    {
     "name": "stdout",
     "output_type": "stream",
     "text": [
      "[1, 8, 27, 64]\n",
      "[1, 2, 4, 8]\n"
     ]
    }
   ],
   "source": [
    "## to calculate cube and square root of a number\n",
    "a = [1,2,3,4]\n",
    "b = [1,4,16,64]\n",
    "def cube(a):\n",
    "    return a**3\n",
    "def squareroot(a):\n",
    "    return int(a**(0.5))\n",
    "x = list(map(cube , a))\n",
    "print(x)\n",
    "y = list(map(squareroot , b))\n",
    "print(y)"
   ]
  },
  {
   "cell_type": "code",
   "execution_count": 14,
   "id": "75581e61-5496-4202-9f20-53551bcee334",
   "metadata": {},
   "outputs": [
    {
     "name": "stdout",
     "output_type": "stream",
     "text": [
      "Sum 30\n"
     ]
    }
   ],
   "source": [
    "### Arguments in functions\n",
    "# 1. *args (Non-Keyword Agruments): allows you to pass multiple positional arguments to a function. It collects them in tuple format.\n",
    "def add_numbers(*args):\n",
    "    total = sum(args)\n",
    "    print(\"Sum\", total)\n",
    "add_numbers(5,10,15)"
   ]
  },
  {
   "cell_type": "code",
   "execution_count": 18,
   "id": "dbfb7a08-bc6c-446b-a29c-cd7c2ebf82ff",
   "metadata": {},
   "outputs": [
    {
     "name": "stdout",
     "output_type": "stream",
     "text": [
      "key :  name value:  Aditi\n",
      "key :  age value:  25\n",
      "key :  city value:  Mumbai\n"
     ]
    }
   ],
   "source": [
    "# 2. **kwargs : allows you to pass multiple keyword arguments (key-value pairs). It collects them into a dictionary\n",
    "def print_details(**kwargs):\n",
    "    for key , value in kwargs.items():\n",
    "        print(\"key : \", key , \"value: \", value)\n",
    "print_details(name = \"Aditi\" , age = 25 , city = \"Mumbai\")"
   ]
  },
  {
   "cell_type": "code",
   "execution_count": 17,
   "id": "bf51f968-fb00-42b2-b384-7b0d4408cb52",
   "metadata": {},
   "outputs": [
    {
     "name": "stdout",
     "output_type": "stream",
     "text": [
      "Positional arguments: (1, 2, 3)\n",
      "Keyword arguments:  {'name': 'Aditi', 'age': 25}\n"
     ]
    }
   ],
   "source": [
    "# using args and *kwargs together\n",
    "# you can use both in same function, but args must come before *kwargs.\n",
    "def display(*args , **kwargs):\n",
    "    print(\"Positional arguments:\", args)\n",
    "    print(\"Keyword arguments: \", kwargs)\n",
    "display(1,2,3,name = \"Aditi\" , age = 25)"
   ]
  },
  {
   "cell_type": "code",
   "execution_count": 19,
   "id": "65a75fa2-c0c1-421f-88a6-25a08494a3fb",
   "metadata": {},
   "outputs": [],
   "source": [
    "# Required Arguments (Mandatory Arguments) => Thes are arguments must be passed to a function , otherwise. \n",
    "# Python throws an error. There is no default value for these arguments"
   ]
  },
  {
   "cell_type": "code",
   "execution_count": 22,
   "id": "1050b695-96f8-4d37-9669-acb9d193cec3",
   "metadata": {},
   "outputs": [
    {
     "name": "stdout",
     "output_type": "stream",
     "text": [
      "Hello Guest !\n"
     ]
    }
   ],
   "source": [
    "## Default Arguments ()\n",
    "#These arguments have a default value asigned. If no value is provided. Python uses the default\n",
    "def greet(name=\"Guest\"):\n",
    "    print(\"Hello\" , name , \"!\")\n",
    "#greet(Aditi)\n",
    "greet()"
   ]
  },
  {
   "cell_type": "code",
   "execution_count": 24,
   "id": "dd47bc61-894e-49a3-bbfd-847cb314d9d0",
   "metadata": {},
   "outputs": [
    {
     "name": "stdout",
     "output_type": "stream",
     "text": [
      "8\n"
     ]
    }
   ],
   "source": [
    "##return keyword(Output of a function)\n",
    "def add(a , b):\n",
    "    return a+b\n",
    "result = add(5,3)\n",
    "print(result)"
   ]
  },
  {
   "cell_type": "code",
   "execution_count": 26,
   "id": "65dc7f59-a6fb-4ab2-8452-300da0263689",
   "metadata": {},
   "outputs": [
    {
     "name": "stdout",
     "output_type": "stream",
     "text": [
      "100\n",
      "0\n"
     ]
    }
   ],
   "source": [
    "#Find Maximum Number using *args\n",
    "def find(*args):\n",
    "    return max(args)\n",
    "\n",
    "print(find(10,5,25,8,100))\n",
    "print(find(-1,-10,-5,0))"
   ]
  },
  {
   "cell_type": "code",
   "execution_count": 30,
   "id": "1c394652-30d0-4acd-9b1f-6ae0269f7db7",
   "metadata": {},
   "outputs": [
    {
     "name": "stdout",
     "output_type": "stream",
     "text": [
      "24\n",
      "20\n"
     ]
    }
   ],
   "source": [
    "# Calculate product of two numbers using *args\n",
    "def product(*args):\n",
    "    result = 1\n",
    "    for num in args:\n",
    "        result *= num\n",
    "    return result\n",
    "print(product(2,3,4))\n",
    "print(product(5,4))"
   ]
  },
  {
   "cell_type": "code",
   "execution_count": 34,
   "id": "b8a48127-3caf-4aff-85d8-65ede4f50e4b",
   "metadata": {},
   "outputs": [
    {
     "name": "stdout",
     "output_type": "stream",
     "text": [
      "Aditi Gupta\n",
      "Aditi Mehta\n"
     ]
    }
   ],
   "source": [
    "## Generate a Full Name using **kwargs\n",
    "def full_name(**kwargs):\n",
    "    return f\"{kwargs.get('first_name', 'Unknown')} {kwargs.get('last_name','Mehta')}\"\n",
    "print(full_name(first_name = \"Aditi\" , last_name = \"Gupta\"))\n",
    "print(full_name(first_name = \"Aditi\"))\n"
   ]
  },
  {
   "cell_type": "code",
   "execution_count": 42,
   "id": "3d5c1058-2434-4c95-8b07-e8c4f2f01da9",
   "metadata": {},
   "outputs": [
    {
     "name": "stdout",
     "output_type": "stream",
     "text": [
      "1\n",
      "3\n"
     ]
    }
   ],
   "source": [
    "def count_vowels(string):\n",
    "    count = 0\n",
    "    for i in string:\n",
    "        if i in \"aeiouAEIOU\":\n",
    "            count += 1\n",
    "    return count\n",
    "print(count_vowels(\"Python\"))\n",
    "print(count_vowels(\"Hello World\"))"
   ]
  },
  {
   "cell_type": "code",
   "execution_count": 45,
   "id": "16c2f039-67bc-46ec-91f5-2a46df60f1e9",
   "metadata": {},
   "outputs": [
    {
     "name": "stdout",
     "output_type": "stream",
     "text": [
      "100\n",
      "70\n"
     ]
    }
   ],
   "source": [
    "## Create a shopping cart using args and *kwargs\n",
    "def shopping_cart(*items, **prices):\n",
    "    total = sum(prices[i] for i in items if i in prices)\n",
    "    return total\n",
    "print(shopping_cart(\"apple\",\"banana\",\"mango\", apple = 50 , banana = 30 , mango = 20))\n",
    "print(shopping_cart(\"mango\" , \"grapes\", mango = 30 , grapes = 40))"
   ]
  },
  {
   "cell_type": "code",
   "execution_count": null,
   "id": "5af2393f-7423-41fe-be87-a30a5a334925",
   "metadata": {},
   "outputs": [],
   "source": []
  }
 ],
 "metadata": {
  "kernelspec": {
   "display_name": "Python 3 (ipykernel)",
   "language": "python",
   "name": "python3"
  },
  "language_info": {
   "codemirror_mode": {
    "name": "ipython",
    "version": 3
   },
   "file_extension": ".py",
   "mimetype": "text/x-python",
   "name": "python",
   "nbconvert_exporter": "python",
   "pygments_lexer": "ipython3",
   "version": "3.11.0rc2"
  }
 },
 "nbformat": 4,
 "nbformat_minor": 5
}
